{
 "cells": [
  {
   "cell_type": "code",
   "execution_count": 26,
   "id": "0188723b",
   "metadata": {},
   "outputs": [
    {
     "name": "stdout",
     "output_type": "stream",
     "text": [
      "parent dictionary = {'Billing': 'Main menu', 'DND & VAS': 'Main menu', 'New connection': 'Main menu', 'Network, data & SMS': 'Main menu', 'Loss of sim, PUK, PORT': 'Main menu', 'Bill': 'Billing', 'Tariff': 'Billing', 'Dataplan': 'Billing', 'CallerTune': 'DND & VAS', 'DND': 'DND & VAS', 'VAS': 'DND & VAS', 'Products': 'New connection', 'new connect': 'New connection', 'Network': 'Network, data & SMS', 'Data': 'Network, data & SMS', 'SMS': 'Network, data & SMS', 'complaints': 'Network, data & SMS', 'Customer care': 'complaints', 'Loss of sim': 'Loss of sim, PUK, PORT', 'PUK': 'Loss of sim, PUK, PORT', 'PORT': 'Loss of sim, PUK, PORT'}\n",
      "\n",
      "\n",
      "Shortest time to reach Customer care = ['Main menu', 'Network, data & SMS', 'complaints', 'Customer care']\n"
     ]
    }
   ],
   "source": [
    "#Find Shortest path\n",
    "from numpy import inf\n",
    "graph = {'Main menu': {'Billing': 1, 'DND & VAS': 2, 'New connection': 3, 'Network, data & SMS': 4, 'Loss of sim, PUK, PORT': 5}, \n",
    "         'Billing': {'Bill': 6, 'Tariff': 5, 'Dataplan': 4, 'Main menu': 1},\n",
    "         'DND & VAS': {'CallerTune': 3, 'DND': 5, 'VAS': 5, 'Main menu': 2},\n",
    "         'New connection': {'Products': 4, 'new connect': 1, 'Main menu': 4},\n",
    "         'Network, data & SMS': {'Network': 2, 'Data': 3, 'SMS': 4, 'complaints': 1, 'Main menu': 4},\n",
    "         'Loss of sim, PUK, PORT': {'Loss of sim': 6, 'PUK': 1, 'PORT': 3, 'Main menu': 5},\n",
    "         'Bill': {'Customer care': 6, 'Billing': 6},\n",
    "         'Tariff':{'Customer care': 5, 'Billing': 5},\n",
    "         'Dataplan':{'Customer care': 3, 'Billing': 4},\n",
    "         'CallerTune':{'Customer care': 3, 'DND & VAS': 3},\n",
    "         'DND':{'Customer care': 2, 'DND & VAS': 5},\n",
    "         'VAS':{'Customer care': 5, 'DND & VAS': 5},\n",
    "         'Products':{'Customer care': 7,'New connection': 4},\n",
    "         'new connect':{'Customer care': 6, 'New connection': 1},\n",
    "         'Network':{'Customer care': 2, 'Network, data & SMS': 2},\n",
    "         'Data':{'Customer care': 3, 'Network, data & SMS': 3},\n",
    "         'SMS':{'Customer care': 4, 'Network, data & SMS': 4},\n",
    "         'complaints':{'Customer care': 2, 'Network, data & SMS': 1},\n",
    "         'Loss of sim':{'Customer care': 3, 'Loss of sim, PUK, PORT': 4},\n",
    "         'PUK':{'Customer care': 6, 'Loss of sim, PUK, PORT': 1},\n",
    "         'PORT':{'Customer care': 4, 'Loss of sim, PUK, PORT': 3},\n",
    "         'Customer care':{'Bill': 6, 'Tariff': 5, 'Dataplan': 3, 'CallerTune': 3, 'DND': 2, 'VAS': 5, 'Products':7,\n",
    "                          'new connect': 6, 'Network': 2, 'Data': 3, 'SMS': 4, 'complaints': 2, 'Loss of sim': 3, \n",
    "                          'PUK': 6, 'PORT': 4}\n",
    "        }\n",
    "         \n",
    "         \n",
    "costs = {'Main menu': 0, 'Billing': inf, 'DND & VAS': inf, 'New connection': inf, 'Network, data & SMS': inf, 'Loss of sim, PUK, PORT': inf,\n",
    "         'Bill': inf, 'Tariff': inf, 'Dataplan': inf, 'CallerTune': inf, 'DND': inf, 'VAS': inf, 'Products': inf, 'new connect': inf,\n",
    "         'Network': inf, 'Data': inf, 'SMS': inf, 'complaints': inf, 'Loss of sim': inf, 'PUK': inf, 'PORT': inf, 'Customer care': inf}\n",
    "\n",
    "\n",
    "parents = {}\n",
    "def search(source, target, graph, costs, parents):\n",
    "    nextNode = source\n",
    "    while nextNode != target:\n",
    "        for neighbor in graph[nextNode]:\n",
    "            if graph[nextNode][neighbor] + costs[nextNode] < costs[neighbor]:\n",
    "                costs[neighbor] = graph[nextNode][neighbor] + costs[nextNode]\n",
    "                parents[neighbor] = nextNode\n",
    "            del graph[neighbor][nextNode]\n",
    "        del costs[nextNode]\n",
    "        nextNode = min(costs, key=costs.get)\n",
    "    return parents\n",
    "result = search('Main menu', 'Customer care', graph, costs, parents)\n",
    "def backpedal(source, target, searchResult):\n",
    "    node = target\n",
    "    backpath = [target]\n",
    "    path = []\n",
    "    while node != source:\n",
    "        backpath.append(searchResult[node])\n",
    "        node = searchResult[node]\n",
    "    for i in range(len(backpath)):\n",
    "        path.append(backpath[-i - 1])\n",
    "    return path\n",
    "print('parent dictionary = {}'.format(result))\n",
    "print()\n",
    "print()\n",
    "print('Shortest time to reach Customer care = {}'.format(backpedal('Main menu', 'Customer care', result)))"
   ]
  },
  {
   "cell_type": "code",
   "execution_count": null,
   "id": "5fdb5db9",
   "metadata": {},
   "outputs": [],
   "source": []
  },
  {
   "cell_type": "code",
   "execution_count": 25,
   "id": "a6a4c24e",
   "metadata": {},
   "outputs": [
    {
     "name": "stdout",
     "output_type": "stream",
     "text": [
      "Parent dictionary = {'Billing': 'Main menu', 'DND & VAS': 'Main menu', 'New connection': 'Main menu', 'Network, data & SMS': 'Main menu', 'Loss of sim, PUK, PORT': 'Main menu', 'Loss of sim': 'Loss of sim, PUK, PORT', 'PUK': 'Loss of sim, PUK, PORT', 'PORT': 'Loss of sim, PUK, PORT', 'Customer care': 'Loss of sim'}\n",
      "\n",
      "\n",
      "Longest time to reach Customer care = ['Main menu', 'Loss of sim, PUK, PORT', 'Loss of sim', 'Customer care']\n"
     ]
    }
   ],
   "source": [
    "## Find Longest path\n",
    "\n",
    "from numpy import inf\n",
    "graph = {'Main menu': {'Billing': 1, 'DND & VAS': 2, 'New connection': 3, 'Network, data & SMS': 4, 'Loss of sim, PUK, PORT': 5}, \n",
    "         'Billing': {'Bill': 6, 'Tariff': 5, 'Dataplan': 4, 'Main menu': 1},\n",
    "         'DND & VAS': {'CallerTune': 3, 'DND': 5, 'VAS': 5, 'Main menu': 2},\n",
    "         'New connection': {'Products': 4, 'new connect': 1, 'Main menu': 4},\n",
    "         'Network, data & SMS': {'Network': 2, 'Data': 3, 'SMS': 4, 'complaints': 1, 'Main menu': 4},\n",
    "         'Loss of sim, PUK, PORT': {'Loss of sim': 6, 'PUK': 1, 'PORT': 3, 'Main menu': 5},\n",
    "         'Bill': {'Customer care': 6, 'Billing': 6},\n",
    "         'Tariff':{'Customer care': 5, 'Billing': 5},\n",
    "         'Dataplan':{'Customer care': 3, 'Billing': 4},\n",
    "         'CallerTune':{'Customer care': 3, 'DND & VAS': 3},\n",
    "         'DND':{'Customer care': 2, 'DND & VAS': 5},\n",
    "         'VAS':{'Customer care': 5, 'DND & VAS': 5},\n",
    "         'Products':{'Customer care': 7,'New connection': 4},\n",
    "         'new connect':{'Customer care': 6, 'New connection': 1},\n",
    "         'Network':{'Customer care': 2, 'Network, data & SMS': 2},\n",
    "         'Data':{'Customer care': 3, 'Network, data & SMS': 3},\n",
    "         'SMS':{'Customer care': 4, 'Network, data & SMS': 4},\n",
    "         'complaints':{'Customer care': 2, 'Network, data & SMS': 1},\n",
    "         'Loss of sim':{'Customer care': 3, 'Loss of sim, PUK, PORT': 4},\n",
    "         'PUK':{'Customer care': 6, 'Loss of sim, PUK, PORT': 1},\n",
    "         'PORT':{'Customer care': 4, 'Loss of sim, PUK, PORT': 3},\n",
    "         'Customer care':{'Bill': 6, 'Tariff': 5, 'Dataplan': 3, 'CallerTune': 3, 'DND': 2, 'VAS': 5, 'Products':7,\n",
    "                          'new connect': 6, 'Network': 2, 'Data': 3, 'SMS': 4, 'complaints': 2, 'Loss of sim': 3, \n",
    "                          'PUK': 6, 'PORT': 4}\n",
    "        }\n",
    "         \n",
    "         \n",
    "costs = {'Main menu': 0, 'Billing': -inf, 'DND & VAS': -inf, 'New connection': -inf, 'Network, data & SMS': -inf, 'Loss of sim, PUK, PORT': -inf,\n",
    "         'Bill': -inf, 'Tariff': -inf, 'Dataplan': -inf, 'CallerTune': -inf, 'DND': -inf, 'VAS': -inf, 'Products': -inf, 'new connect': -inf,\n",
    "         'Network': -inf, 'Data': -inf, 'SMS': -inf, 'complaints': -inf, 'Loss of sim': -inf, 'PUK': -inf, 'PORT': -inf, 'Customer care': -inf}\n",
    "\n",
    "\n",
    "parents = {}\n",
    "def search(source, target, graph, costs, parents):\n",
    "    nextNode = source\n",
    "    while nextNode != target:\n",
    "        for neighbor in graph[nextNode]:\n",
    "            if graph[nextNode][neighbor] + costs[nextNode] > costs[neighbor]:\n",
    "                costs[neighbor] = graph[nextNode][neighbor] + costs[nextNode]\n",
    "                parents[neighbor] = nextNode\n",
    "            del graph[neighbor][nextNode]\n",
    "        del costs[nextNode]\n",
    "        nextNode = max(costs, key=costs.get)\n",
    "    return parents\n",
    "result = search('Main menu', 'Customer care', graph, costs, parents)\n",
    "def backpedal(source, target, searchResult):\n",
    "    node = target\n",
    "    backpath = [target]\n",
    "    path = []\n",
    "    while node != source:\n",
    "        backpath.append(searchResult[node])\n",
    "        node = searchResult[node]\n",
    "    for i in range(len(backpath)):\n",
    "        path.append(backpath[-i - 1])\n",
    "    return path\n",
    "print('Parent dictionary = {}'.format(result))\n",
    "print()\n",
    "print()\n",
    "print('Longest time to reach Customer care = {}'.format(backpedal('Main menu', 'Customer care', result)))"
   ]
  },
  {
   "cell_type": "code",
   "execution_count": 14,
   "id": "30a90021",
   "metadata": {},
   "outputs": [
    {
     "name": "stdout",
     "output_type": "stream",
     "text": [
      "{'Main menu': 0, 'Billing': -inf, 'DND & VAS': -inf, 'New connection': -inf, 'Network, data & SMS': -inf, 'Loss of sim, PUK, PORT': -inf}\n"
     ]
    }
   ],
   "source": [
    "from numpy import inf\n",
    "graph = {'Main menu': {'Billing': 1, 'DND & VAS': 2, 'New connection': 3, 'Network, data & SMS': 4, 'Loss of sim, PUK, PORT': 5}, \n",
    "         'Billing': {'Bill': 6, 'Tariff': 5, 'Dataplan': 4, 'Main menu': 1},\n",
    "         'DND & VAS': {'CallerTune': 3, 'DND': 5, 'VAS': 5, 'Main menu': 2},\n",
    "         'New connection': {'Products': 4, 'new connect': 1, 'Main menu': 4}}\n",
    "\n",
    "cost = {'Main menu': 0, 'Billing': -inf, 'DND & VAS': -inf, 'New connection': -inf, 'Network, data & SMS': -inf, 'Loss of sim, PUK, PORT': -inf,}\n",
    "\n",
    "print(graph and cost)\n",
    "\n",
    "Main menu = {'Billing':{0, 'null', , }"
   ]
  },
  {
   "cell_type": "code",
   "execution_count": null,
   "id": "3719505a",
   "metadata": {},
   "outputs": [],
   "source": []
  },
  {
   "cell_type": "code",
   "execution_count": null,
   "id": "15c7e812",
   "metadata": {},
   "outputs": [],
   "source": []
  },
  {
   "cell_type": "code",
   "execution_count": null,
   "id": "9e44065a",
   "metadata": {},
   "outputs": [],
   "source": []
  },
  {
   "cell_type": "code",
   "execution_count": null,
   "id": "1697d336",
   "metadata": {},
   "outputs": [],
   "source": [
    "{} [] ()"
   ]
  }
 ],
 "metadata": {
  "kernelspec": {
   "display_name": "Python 3 (ipykernel)",
   "language": "python",
   "name": "python3"
  },
  "language_info": {
   "codemirror_mode": {
    "name": "ipython",
    "version": 3
   },
   "file_extension": ".py",
   "mimetype": "text/x-python",
   "name": "python",
   "nbconvert_exporter": "python",
   "pygments_lexer": "ipython3",
   "version": "3.9.13"
  }
 },
 "nbformat": 4,
 "nbformat_minor": 5
}
